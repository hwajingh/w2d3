{
 "cells": [
  {
   "cell_type": "code",
   "execution_count": 2,
   "id": "cd81b911",
   "metadata": {},
   "outputs": [
    {
     "name": "stdout",
     "output_type": "stream",
     "text": [
      "Do you want to : Show/Add/Delete/clear or Quit? add\n",
      "what to add? cheese\n",
      "Do you want to : Show/Add/Delete/clear or Quit? quit\n",
      "The list has: \n",
      "cheese "
     ]
    }
   ],
   "source": [
    "from IPython.display import clear_output\n",
    "\n",
    "# Ask the user 5 bits of input: Do you want to : Show/Add/Delete/clear or Quit?\n",
    "\n",
    "def shoppingcart():\n",
    "    emptyset = set() \n",
    "    \n",
    "    while True:\n",
    "        move = input(\"Do you want to : Show/Add/Delete/clear or Quit? \")\n",
    "        if move.lower() == 'show':\n",
    "            print(f\"The shopping list has: \")\n",
    "            for x in emptyset:\n",
    "                print(x,  end =\" \")\n",
    "        elif move.lower() == \"add\":\n",
    "            item = input(\"what to add? \")\n",
    "            emptyset.add(item)\n",
    "        elif move.lower()== \"delete\":\n",
    "            rm = input(\"what to remove \")\n",
    "            emptyset.remove(rm)\n",
    "        elif move.lower()==\"clear\":\n",
    "            emptyset.clear()\n",
    "        elif move.lower() == 'quit':\n",
    "            print(f\"The list has: \")\n",
    "            for stuff in emptyset:\n",
    "                print(stuff,  end =\" \")\n",
    "            break\n",
    "        else:\n",
    "            clear_output()\n",
    "            \n",
    "shoppingcart()\n"
   ]
  },
  {
   "cell_type": "code",
   "execution_count": null,
   "id": "6fcc373d",
   "metadata": {},
   "outputs": [],
   "source": []
  }
 ],
 "metadata": {
  "kernelspec": {
   "display_name": "Python 3 (ipykernel)",
   "language": "python",
   "name": "python3"
  },
  "language_info": {
   "codemirror_mode": {
    "name": "ipython",
    "version": 3
   },
   "file_extension": ".py",
   "mimetype": "text/x-python",
   "name": "python",
   "nbconvert_exporter": "python",
   "pygments_lexer": "ipython3",
   "version": "3.9.7"
  }
 },
 "nbformat": 4,
 "nbformat_minor": 5
}
